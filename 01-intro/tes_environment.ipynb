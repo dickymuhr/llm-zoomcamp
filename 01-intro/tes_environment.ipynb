{
 "cells": [
  {
   "cell_type": "code",
   "execution_count": 1,
   "id": "547e2025-56cf-44a9-9cec-bc3637fd4770",
   "metadata": {},
   "outputs": [],
   "source": [
    "import openai\n",
    "import os"
   ]
  },
  {
   "cell_type": "code",
   "execution_count": 2,
   "id": "aa8dbc13-e9c2-4d6a-ac87-ec00cad1073f",
   "metadata": {},
   "outputs": [],
   "source": [
    "from openai import OpenAI"
   ]
  },
  {
   "cell_type": "code",
   "execution_count": 4,
   "id": "6b73cd10-9a1d-4671-8d93-9c7163563007",
   "metadata": {},
   "outputs": [],
   "source": [
    "client = OpenAI(\n",
    "  base_url=\"https://openrouter.ai/api/v1\",\n",
    "  api_key=os.environ.get(\"OPENROUTER_API_KEY\"),\n",
    ")"
   ]
  },
  {
   "cell_type": "code",
   "execution_count": 5,
   "id": "2064b0eb-f7e5-485f-bcec-b91017219826",
   "metadata": {},
   "outputs": [
    {
     "name": "stdout",
     "output_type": "stream",
     "text": [
      "The meaning of life is one of philosophy's most profound and enduring questions, and the answer depends greatly on personal beliefs, cultural context, and philosophical or spiritual perspectives. Here are some common viewpoints:\n",
      "\n",
      "### 1. **Philosophical Perspectives**  \n",
      "   - **Existentialism (e.g., Sartre, Camus):** Life has no inherent meaning; we must create our own purpose through choices and actions.  \n",
      "   - **Stoicism:** Meaning comes from living virtuously, accepting what we cannot control, and focusing on inner peace.  \n",
      "   - **Absurdism (Camus):** While life may lack intrinsic meaning, we can embrace the absurd and find joy in the struggle itself.  \n",
      "\n",
      "### 2. **Spiritual/Religious Views**  \n",
      "   - **Theistic religions (e.g., Christianity, Islam, Hinduism):** Life’s purpose is tied to divine will—serving God, seeking enlightenment, or fulfilling dharma.  \n",
      "   - **Buddhism:** Meaning arises from overcoming suffering (dukkha) through mindfulness and detachment, leading to Nirvana.  \n",
      "\n",
      "### 3. **Scientific Perspective**  \n",
      "   - **Evolutionary biology:** Life’s \"purpose\" is survival and reproduction, but humans add layers of meaning through culture and consciousness.  \n",
      "   - **Cosmic view:** In a vast, impersonal universe, meaning is subjective—a product of human cognition and emotion.  \n",
      "\n",
      "### 4. **Personal Meaning**  \n",
      "   Many find purpose in relationships, creativity, helping others, personal growth, or leaving a legacy. Viktor Frankl, a Holocaust survivor, argued in *Man’s Search for Meaning* that even in suffering, we can find meaning through our responses.  \n",
      "\n",
      "### A Practical Answer:  \n",
      "**Meaning isn’t discovered—it’s created.** It emerges from love, work, curiosity, connection, and the pursuit of what feels significant to you.  \n",
      "\n",
      "What resonates with *you*? The exploration itself might be part of the answer.\n"
     ]
    }
   ],
   "source": [
    "completion = client.chat.completions.create(\n",
    "  model=\"deepseek/deepseek-chat-v3-0324:free\",\n",
    "  messages=[\n",
    "    {\n",
    "      \"role\": \"user\",\n",
    "      \"content\": \"What is the meaning of life?\"\n",
    "    }\n",
    "  ]\n",
    ")\n",
    "print(completion.choices[0].message.content)"
   ]
  },
  {
   "cell_type": "code",
   "execution_count": null,
   "id": "8e403644-a4e7-4740-8f8f-696088e1ba97",
   "metadata": {},
   "outputs": [],
   "source": []
  }
 ],
 "metadata": {
  "kernelspec": {
   "display_name": "Python 3 (ipykernel)",
   "language": "python",
   "name": "python3"
  },
  "language_info": {
   "codemirror_mode": {
    "name": "ipython",
    "version": 3
   },
   "file_extension": ".py",
   "mimetype": "text/x-python",
   "name": "python",
   "nbconvert_exporter": "python",
   "pygments_lexer": "ipython3",
   "version": "3.9.6"
  }
 },
 "nbformat": 4,
 "nbformat_minor": 5
}
